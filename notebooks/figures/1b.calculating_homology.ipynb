{
 "cells": [
  {
   "cell_type": "code",
   "execution_count": 32,
   "metadata": {},
   "outputs": [],
   "source": [
    "from Bio import SeqIO\n",
    "from Bio import pairwise2\n",
    "from Bio.pairwise2 import format_alignment"
   ]
  },
  {
   "cell_type": "code",
   "execution_count": 33,
   "metadata": {},
   "outputs": [
    {
     "name": "stdout",
     "output_type": "stream",
     "text": [
      "After sequence: ATCGCTGAGCGTGTCGCCGGTCTACATTAC|AGGCTTCCCCCTGGGCTCGTAGCGC\n",
      "After sequence: TAATCACTACAAGTCAGGAATGCCTGCGTT|TGGCCGTCCAGTTAGTAACAGAAGG\n"
     ]
    }
   ],
   "source": [
    "\n",
    "# indelphi sample\n",
    "# >2_1_4_2_GTGTCGCCGGTCTACATTAC 30 FORWARD\n",
    "# ATCGCTGAGCGTGTCGCCGGTCTACATTACAGGCTTCCCCCTGGGCTCGTAGCGC\n",
    "def get_sequence_with_flank_lengths(sequence, pam_index, left_flank_len, right_flank_len, include_spacer=False):\n",
    "    l = sequence[pam_index-left_flank_len:pam_index]\n",
    "    r = sequence[pam_index:pam_index+right_flank_len]\n",
    "    if include_spacer:\n",
    "        return l + \"|\" + r\n",
    "    else: \n",
    "        return l + r\n",
    "sequence = \"ATCGCTGAGCGTGTCGCCGGTCTACATTACAGGCTTCCCCCTGGGCTCGTAGCGC\"\n",
    "pam_index = 30\n",
    "left_flank_len = 30\n",
    "right_flank_len = 25\n",
    "# print(f\"Starting sequence: {sequence}\")\n",
    "after = get_sequence_with_flank_lengths(sequence, pam_index, left_flank_len, right_flank_len, include_spacer=True)\n",
    "print(f\"After sequence: {after}\")\n",
    "\n",
    "# FORECasT sample\n",
    "# >Oligo_43170 42 FORWARD\n",
    "# CTCCTATAATTCTAATCACTACAAGTCAGGAATGCCTGCGTTTGGCCGTCCAGTTAGTAACAGAAGGTCAGGTAAGAGG\n",
    "sequence = \"CTCCTATAATTCTAATCACTACAAGTCAGGAATGCCTGCGTTTGGCCGTCCAGTTAGTAACAGAAGGTCAGGTAAGAGG\"\n",
    "pam_index = 42\n",
    "# print(f\"Starting sequence: {sequence}\")\n",
    "after = get_sequence_with_flank_lengths(sequence, pam_index, left_flank_len, right_flank_len, include_spacer=True)\n",
    "print(f\"After sequence: {after}\")\n",
    "\n",
    "\n",
    "\n"
   ]
  },
  {
   "cell_type": "code",
   "execution_count": null,
   "metadata": {},
   "outputs": [
    {
     "name": "stdout",
     "output_type": "stream",
     "text": [
      "Number of FORECasT Sequences: 22\n"
     ]
    }
   ],
   "source": [
    "\n",
    "def read_fasta(file_path):\n",
    "    sequences = []\n",
    "    # Parse the FASTA file and store sequences in the list\n",
    "    for record in SeqIO.parse(file_path, \"fasta\"):\n",
    "        description = record.description.split(\" \")\n",
    "        oritentation = description[2]\n",
    "        if oritentation != \"FORWARD\":\n",
    "            continue\n",
    "        pam_index = int(description[1])\n",
    "        sequence = str(record.seq)\n",
    "        left_flank_len = 30\n",
    "        right_flank_len = 25\n",
    "        after = get_sequence_with_flank_lengths(sequence, \n",
    "                                                pam_index, \n",
    "                                                left_flank_len, \n",
    "                                                right_flank_len, \n",
    "                                                include_spacer=False)\n",
    "        sequences.append(after)  # Convert Seq object to string\n",
    "        if len(sequences) > 10:\n",
    "            break\n",
    "    return sequences\n",
    "\n",
    "FORECAST_train_file_path = '/Users/colm/repos/repair-outcome-prediction/local/data/FORECasT/train.fasta'\n",
    "FORECAST_test_file_path = '/Users/colm/repos/repair-outcome-prediction/local/data/FORECasT/train.fasta'\n",
    "FC_sequences = read_fasta(FORECAST_train_file_path) + read_fasta(FORECAST_test_file_path)\n",
    "\n",
    "print(f\"Number of FORECasT Sequences: {len(FC_sequences)}\")"
   ]
  },
  {
   "cell_type": "code",
   "execution_count": 40,
   "metadata": {},
   "outputs": [
    {
     "name": "stdout",
     "output_type": "stream",
     "text": [
      "Number of Indelphi Sequences: 22\n"
     ]
    }
   ],
   "source": [
    "indelphi_test_file_path = '/Users/colm/repos/repair-outcome-prediction/local/data/inDelphi/train.fasta'\n",
    "indelphi_train_file_path = '/Users/colm/repos/repair-outcome-prediction/local/data/inDelphi/test.fasta'\n",
    "indelphi_sequences = read_fasta(indelphi_train_file_path) + read_fasta(indelphi_test_file_path)\n",
    "\n",
    "print(f\"Number of Indelphi Sequences: {len(indelphi_sequences)}\")"
   ]
  },
  {
   "cell_type": "code",
   "execution_count": 41,
   "metadata": {},
   "outputs": [],
   "source": [
    "def smith_waterman_score(seq1, seq2):\n",
    "    # Perform local alignment (Smith-Waterman)\n",
    "    alignments = pairwise2.align.localxx(seq1, seq2)\n",
    "    \n",
    "    # Extract the best alignment score\n",
    "    best_alignment = alignments[0]\n",
    "    score = best_alignment[2]\n",
    "    \n",
    "    return score"
   ]
  },
  {
   "cell_type": "code",
   "execution_count": 37,
   "metadata": {},
   "outputs": [
    {
     "name": "stdout",
     "output_type": "stream",
     "text": [
      "Max Smith-Waterman Score is 55.0\n"
     ]
    }
   ],
   "source": [
    "max_sw_score = smith_waterman_score(indelphi_sequences[0], indelphi_sequences[0])\n",
    "print(f\"Max Smith-Waterman Score is {max_sw_score}\")"
   ]
  },
  {
   "cell_type": "code",
   "execution_count": 38,
   "metadata": {},
   "outputs": [
    {
     "name": "stderr",
     "output_type": "stream",
     "text": [
      "100%|██████████| 22/22 [00:00<00:00, 90.75it/s]\n"
     ]
    }
   ],
   "source": [
    "from tqdm import tqdm\n",
    "#benchmarking\n",
    "for s in tqdm(indelphi_sequences):\n",
    "    smith_waterman_score(indelphi_sequences[0], s)\n",
    "\n",
    "# Takes about 23 seconds to do 1 iteration"
   ]
  },
  {
   "cell_type": "code",
   "execution_count": 39,
   "metadata": {},
   "outputs": [
    {
     "name": "stdout",
     "output_type": "stream",
     "text": [
      "On 1 core, would take about 0.14055555555555557 hours\n",
      "On 8 core, would take about 0.017569444444444447 hours\n"
     ]
    }
   ],
   "source": [
    "#estimates\n",
    "one_core_hourly_estimate = (23 * len(indelphi_sequences)) / 60 / 60\n",
    "print(f\"On 1 core, would take about {one_core_hourly_estimate} hours\")\n",
    "\n",
    "eight_core_hourly_estimate = one_core_hourly_estimate/8\n",
    "print(f\"On 8 core, would take about {eight_core_hourly_estimate} hours\")\n"
   ]
  },
  {
   "cell_type": "code",
   "execution_count": null,
   "metadata": {},
   "outputs": [],
   "source": []
  }
 ],
 "metadata": {
  "kernelspec": {
   "display_name": "xcrisp",
   "language": "python",
   "name": "python3"
  },
  "language_info": {
   "codemirror_mode": {
    "name": "ipython",
    "version": 3
   },
   "file_extension": ".py",
   "mimetype": "text/x-python",
   "name": "python",
   "nbconvert_exporter": "python",
   "pygments_lexer": "ipython3",
   "version": "3.9.13"
  }
 },
 "nbformat": 4,
 "nbformat_minor": 2
}
