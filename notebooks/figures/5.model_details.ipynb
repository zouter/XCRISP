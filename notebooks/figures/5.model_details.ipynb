{
 "cells": [
  {
   "cell_type": "code",
   "execution_count": 1,
   "metadata": {},
   "outputs": [],
   "source": [
    "# import src.models.XCRISP.model_kld_mpi4py as NeuralNetwork\n",
    "# import __main__\n",
    "# setattr(__main__, \"InsertionNeuralNetwork\", insertion.InsertionNeuralNetwork)"
   ]
  },
  {
   "cell_type": "code",
   "execution_count": 2,
   "metadata": {},
   "outputs": [],
   "source": [
    "import torch\n",
    "\n",
    "def load_model(t, model_dir=\"./models/\"):\n",
    "    model_d = \"{}{}_model.pth\".format(model_dir, t)\n",
    "    model = torch.load(model_d)\n",
    "    return model\n",
    "\n",
    "def load_model_details(t=\"insertion\", model_dir=\"./models/\"):\n",
    "    model_d = \"{}{}_model.details\".format(model_dir, t)\n",
    "    model = torch.load(model_d)\n",
    "    return model"
   ]
  },
  {
   "cell_type": "code",
   "execution_count": 3,
   "metadata": {},
   "outputs": [
    {
     "name": "stderr",
     "output_type": "stream",
     "text": [
      "2024-07-31 16:33:30.301938: I tensorflow/core/platform/cpu_feature_guard.cc:182] This TensorFlow binary is optimized to use available CPU instructions in performance-critical operations.\n",
      "To enable the following instructions: AVX2 AVX512F AVX512_VNNI FMA, in other operations, rebuild TensorFlow with the appropriate compiler flags.\n"
     ]
    }
   ],
   "source": [
    "import keras\n",
    "import keras.backend as K"
   ]
  },
  {
   "cell_type": "code",
   "execution_count": 4,
   "metadata": {},
   "outputs": [
    {
     "name": "stdout",
     "output_type": "stream",
     "text": [
      "Models Trained on Source\n",
      "\n",
      "Learning Rates:\n",
      "Insertion model 0.001\n",
      "Deletion-insertion model 0.001\n",
      "\n",
      "Regularisation\n",
      "Insertion model <keras.src.regularizers.L1 object at 0x14f72f5e0> 0.0005011872\n",
      "Indel model <keras.src.regularizers.L1 object at 0x14f823310> 0.00025118864\n"
     ]
    }
   ],
   "source": [
    "INSERTION_MODEL_F = \"/Users/colm/repos/x-crisp/src/models/Lindel/models/100x_insertion.h5\"\n",
    "INDEL_MODEL_F = \"/Users/colm/repos/x-crisp/src/models/Lindel/models/100x_indel.h5\"\n",
    "\n",
    "insertion_model = keras.models.load_model(INSERTION_MODEL_F)\n",
    "indel_model = keras.models.load_model(INDEL_MODEL_F)\n",
    "\n",
    "print(\"Models Trained on Source\")\n",
    "print(\"\\nLearning Rates:\")\n",
    "print(\"Insertion model\", K.eval(insertion_model.optimizer.learning_rate))\n",
    "print(\"Deletion-insertion model\", K.eval(insertion_model.optimizer.learning_rate))\n",
    "\n",
    "print(\"\\nRegularisation\")\n",
    "d = insertion_model.get_layer('dense')\n",
    "print(\"Insertion model\", d.kernel_regularizer, d.kernel_regularizer.l1)\n",
    "d = indel_model.get_layer('dense')\n",
    "print(\"Indel model\", d.kernel_regularizer, d.kernel_regularizer.l1)\n"
   ]
  },
  {
   "cell_type": "code",
   "execution_count": 5,
   "metadata": {},
   "outputs": [
    {
     "name": "stdout",
     "output_type": "stream",
     "text": [
      "Transfer Learning Models\n",
      "Models Trained on Source\n",
      "\n",
      "Learning Rates:\n",
      "Insertion model 0.001\n",
      "Deletion-insertion model 0.001\n",
      "\n",
      "Regularisation\n",
      "Insertion model <keras.src.regularizers.L1 object at 0x14f40df40> 0.0005011872\n",
      "Indel model <keras.src.regularizers.L1 object at 0x14f84e310> 0.00025118864\n"
     ]
    }
   ],
   "source": [
    "print(\"Transfer Learning Models\")\n",
    "\n",
    "INSERTION_MODEL_F = \"/Users/colm/repos/x-crisp/src/models/Lindel/models/100x_baseline_HAP1_2_insertion.h5\"\n",
    "INDEL_MODEL_F = \"/Users/colm/repos/x-crisp/src/models/Lindel/models/100x_baseline_HAP1_2_indel.h5\"\n",
    "\n",
    "insertion_model = keras.models.load_model(INSERTION_MODEL_F)\n",
    "indel_model = keras.models.load_model(INDEL_MODEL_F)\n",
    "\n",
    "print(\"Models Trained on Source\")\n",
    "print(\"\\nLearning Rates:\")\n",
    "print(\"Insertion model\", K.eval(insertion_model.optimizer.learning_rate))\n",
    "print(\"Deletion-insertion model\", K.eval(insertion_model.optimizer.learning_rate))\n",
    "\n",
    "print(\"\\nRegularisation\")\n",
    "d = insertion_model.get_layer('dense')\n",
    "print(\"Insertion model\", d.kernel_regularizer, d.kernel_regularizer.l1)\n",
    "d = indel_model.get_layer('dense')\n",
    "print(\"Indel model\", d.kernel_regularizer, d.kernel_regularizer.l1)"
   ]
  }
 ],
 "metadata": {
  "kernelspec": {
   "display_name": "X-CRISP",
   "language": "python",
   "name": "python3"
  },
  "language_info": {
   "codemirror_mode": {
    "name": "ipython",
    "version": 3
   },
   "file_extension": ".py",
   "mimetype": "text/x-python",
   "name": "python",
   "nbconvert_exporter": "python",
   "pygments_lexer": "ipython3",
   "version": "3.9.13"
  }
 },
 "nbformat": 4,
 "nbformat_minor": 2
}
