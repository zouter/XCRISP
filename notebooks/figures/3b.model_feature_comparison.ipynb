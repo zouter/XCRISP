{
 "cells": [
  {
   "cell_type": "code",
   "execution_count": 42,
   "metadata": {},
   "outputs": [],
   "source": [
    "import os, csv, io, sys\n",
    "import pandas as pd\n",
    "from tqdm import tqdm\n",
    "import numpy as np\n",
    "from functools import reduce\n",
    "from src.models.FORECasT.model import load, read_theta, compute_predicted_profile\n",
    "\n",
    "MIN_NUM_READS = 100\n",
    "FC_THETA = \"{}x_model_thetas_l20.001_l10.001\".format(MIN_NUM_READS)\n",
    "FC_MODEL_THETA_FILE = \"/Users/colm/repos/x-crisp/src/models/FORECasT/models/{}.txt\".format(FC_THETA)\n",
    "\n",
    "theta, _, feature_columns = read_theta(FC_MODEL_THETA_FILE)\n",
    "forecast_features = pd.Series(feature_columns).str.split(r'PW_|_vs_', expand=True)\n",
    "forecast_features = reduce(np.union1d, [forecast_features[0].dropna().unique(), forecast_features[1].dropna().unique(), forecast_features[2].dropna().unique()])\n"
   ]
  },
  {
   "cell_type": "code",
   "execution_count": 52,
   "metadata": {},
   "outputs": [
    {
     "data": {
      "text/plain": [
       "525"
      ]
     },
     "execution_count": 52,
     "metadata": {},
     "output_type": "execute_result"
    }
   ],
   "source": [
    "forecast_mh_columns = [f for f in feature_columns if \"MH\" in f]\n",
    "len(forecast_mh_columns)"
   ]
  },
  {
   "cell_type": "code",
   "execution_count": 50,
   "metadata": {},
   "outputs": [
    {
     "data": {
      "text/plain": [
       "['L_MH1-1',\n",
       " 'L_MH11-15',\n",
       " 'L_MH2-2',\n",
       " 'L_MH3-3',\n",
       " 'L_MH4-6',\n",
       " 'L_MH7-10',\n",
       " 'L_MM1_MH11-15',\n",
       " 'L_MM1_MH3-3',\n",
       " 'L_MM1_MH4-6',\n",
       " 'L_MM1_MH7-10',\n",
       " 'No MH',\n",
       " 'R_MH1-1',\n",
       " 'R_MH11-15',\n",
       " 'R_MH2-2',\n",
       " 'R_MH3-3',\n",
       " 'R_MH4-6',\n",
       " 'R_MH7-10',\n",
       " 'R_MM1_MH11-15',\n",
       " 'R_MM1_MH3-3',\n",
       " 'R_MM1_MH4-6',\n",
       " 'R_MM1_MH7-10']"
      ]
     },
     "execution_count": 50,
     "metadata": {},
     "output_type": "execute_result"
    }
   ],
   "source": [
    "forecast_mh_features = [f for f in forecast_features if \"MH\" in f]\n",
    "forecast_mh_features"
   ]
  },
  {
   "cell_type": "code",
   "execution_count": 11,
   "metadata": {},
   "outputs": [],
   "source": [
    "import pickle as pkl\n",
    "\n",
    "def read_prereq():\n",
    "    return pkl.load(open(\"/Users/colm/repos/x-crisp/src/models/Lindel/model_prereq.pkl\", 'rb'))\n",
    "\n",
    "prereq = read_prereq()\n",
    "_, rev_index, features, _ = prereq"
   ]
  },
  {
   "cell_type": "code",
   "execution_count": 24,
   "metadata": {},
   "outputs": [
    {
     "name": "stdout",
     "output_type": "stream",
     "text": [
      "Homology Length [0, 1, 2, 3, 4]\n",
      "Start [-30, -29, -28, -27, -26, -25, -24, -23, -22, -21, -20, -19, -18, -17, -16, -15, -14, -13, -12, -11, -10, -9, -8, -7, -6, -5, -4, -3, -2, -1, 0, 1]\n",
      "Length [1, 2, 3, 4, 5, 6, 7, 8, 9, 10, 11, 12, 13, 14, 15, 16, 17, 18, 19, 20, 21, 22, 23, 24, 25, 26, 27, 28, 29]\n"
     ]
    }
   ],
   "source": [
    "lindel_features = pd.Series(list(features.keys()))\n",
    "lindel_features = lindel_features.str.split(\"+\", expand=True).rename(columns={0: \"Start\", 1: \"End\", 2:\"Homology Length\"})\n",
    "print(\"Homology Length\", sorted(lindel_features[\"Homology Length\"].unique().astype(int)))\n",
    "print(\"Start\", sorted(lindel_features[\"Start\"].unique().astype(int)))\n",
    "print(\"Length\", sorted(lindel_features[\"End\"].unique().astype(int)))"
   ]
  },
  {
   "cell_type": "code",
   "execution_count": 47,
   "metadata": {},
   "outputs": [
    {
     "data": {
      "text/plain": [
       "2649"
      ]
     },
     "execution_count": 47,
     "metadata": {},
     "output_type": "execute_result"
    }
   ],
   "source": [
    "len(lindel_features)"
   ]
  }
 ],
 "metadata": {
  "kernelspec": {
   "display_name": "xcrisp",
   "language": "python",
   "name": "python3"
  },
  "language_info": {
   "codemirror_mode": {
    "name": "ipython",
    "version": 3
   },
   "file_extension": ".py",
   "mimetype": "text/x-python",
   "name": "python",
   "nbconvert_exporter": "python",
   "pygments_lexer": "ipython3",
   "version": "3.9.13"
  }
 },
 "nbformat": 4,
 "nbformat_minor": 2
}
