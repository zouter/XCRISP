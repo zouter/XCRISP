{
 "cells": [
  {
   "cell_type": "code",
   "execution_count": 18,
   "metadata": {},
   "outputs": [
    {
     "name": "stdout",
     "output_type": "stream",
     "text": [
      "(6634, 8)\n"
     ]
    },
    {
     "data": {
      "text/html": [
       "<div>\n",
       "<style scoped>\n",
       "    .dataframe tbody tr th:only-of-type {\n",
       "        vertical-align: middle;\n",
       "    }\n",
       "\n",
       "    .dataframe tbody tr th {\n",
       "        vertical-align: top;\n",
       "    }\n",
       "\n",
       "    .dataframe thead th {\n",
       "        text-align: right;\n",
       "    }\n",
       "</style>\n",
       "<table border=\"1\" class=\"dataframe\">\n",
       "  <thead>\n",
       "    <tr style=\"text-align: right;\">\n",
       "      <th></th>\n",
       "      <th>ID</th>\n",
       "      <th>Guide Sequence</th>\n",
       "      <th>TargetSequence</th>\n",
       "      <th>Scaffold</th>\n",
       "      <th>Subset</th>\n",
       "      <th>Comments</th>\n",
       "      <th>PAM Index</th>\n",
       "      <th>Strand</th>\n",
       "    </tr>\n",
       "  </thead>\n",
       "  <tbody>\n",
       "    <tr>\n",
       "      <th>0</th>\n",
       "      <td>Oligo_35070</td>\n",
       "      <td>GGGCTCTCCCTCGACCGCAA</td>\n",
       "      <td>CGTAATCCTCTACGATCGACACTGGCTCTCCCTCGACCGCAACGGG...</td>\n",
       "      <td>Improved</td>\n",
       "      <td>Explorative gRNA-Targets</td>\n",
       "      <td>NaN</td>\n",
       "      <td>42</td>\n",
       "      <td>FORWARD</td>\n",
       "    </tr>\n",
       "    <tr>\n",
       "      <th>1</th>\n",
       "      <td>Oligo_42717</td>\n",
       "      <td>GGTGTATGTCGTGGCCCTAT</td>\n",
       "      <td>ATCCCAATTTGTGTATGTCGTAGGTGTATGTCGTGGCCCTATTGGG...</td>\n",
       "      <td>Improved</td>\n",
       "      <td>Explorative gRNA-Targets</td>\n",
       "      <td>NaN</td>\n",
       "      <td>42</td>\n",
       "      <td>FORWARD</td>\n",
       "    </tr>\n",
       "    <tr>\n",
       "      <th>2</th>\n",
       "      <td>Oligo_22394</td>\n",
       "      <td>GACCGAAACCGTTCATAGTG</td>\n",
       "      <td>TCTTGTGGCTTAAGAAGTTTTCGACCGAAACCGTTCATAGTGCGGC...</td>\n",
       "      <td>Improved</td>\n",
       "      <td>Explorative gRNA-Targets</td>\n",
       "      <td>NaN</td>\n",
       "      <td>42</td>\n",
       "      <td>FORWARD</td>\n",
       "    </tr>\n",
       "    <tr>\n",
       "      <th>3</th>\n",
       "      <td>Oligo_16345</td>\n",
       "      <td>GGCTCCTTTGATACGCATGC</td>\n",
       "      <td>TCCGATTTATCAGCAATCGGGAGGCTCCTTTGATACGCATGCGGGG...</td>\n",
       "      <td>Improved</td>\n",
       "      <td>Explorative gRNA-Targets</td>\n",
       "      <td>NaN</td>\n",
       "      <td>42</td>\n",
       "      <td>FORWARD</td>\n",
       "    </tr>\n",
       "    <tr>\n",
       "      <th>4</th>\n",
       "      <td>Oligo_2536</td>\n",
       "      <td>GTCGGCGTGGTCCATTGTGT</td>\n",
       "      <td>AAACTTGTACTCGGACGTAATCCTCGGCGTGGTCCATTGTGTGGGT...</td>\n",
       "      <td>Improved</td>\n",
       "      <td>Explorative gRNA-Targets</td>\n",
       "      <td>NaN</td>\n",
       "      <td>42</td>\n",
       "      <td>FORWARD</td>\n",
       "    </tr>\n",
       "  </tbody>\n",
       "</table>\n",
       "</div>"
      ],
      "text/plain": [
       "            ID        Guide Sequence  \\\n",
       "0  Oligo_35070  GGGCTCTCCCTCGACCGCAA   \n",
       "1  Oligo_42717  GGTGTATGTCGTGGCCCTAT   \n",
       "2  Oligo_22394  GACCGAAACCGTTCATAGTG   \n",
       "3  Oligo_16345  GGCTCCTTTGATACGCATGC   \n",
       "4   Oligo_2536  GTCGGCGTGGTCCATTGTGT   \n",
       "\n",
       "                                      TargetSequence  Scaffold  \\\n",
       "0  CGTAATCCTCTACGATCGACACTGGCTCTCCCTCGACCGCAACGGG...  Improved   \n",
       "1  ATCCCAATTTGTGTATGTCGTAGGTGTATGTCGTGGCCCTATTGGG...  Improved   \n",
       "2  TCTTGTGGCTTAAGAAGTTTTCGACCGAAACCGTTCATAGTGCGGC...  Improved   \n",
       "3  TCCGATTTATCAGCAATCGGGAGGCTCCTTTGATACGCATGCGGGG...  Improved   \n",
       "4  AAACTTGTACTCGGACGTAATCCTCGGCGTGGTCCATTGTGTGGGT...  Improved   \n",
       "\n",
       "                     Subset  Comments  PAM Index   Strand  \n",
       "0  Explorative gRNA-Targets       NaN         42  FORWARD  \n",
       "1  Explorative gRNA-Targets       NaN         42  FORWARD  \n",
       "2  Explorative gRNA-Targets       NaN         42  FORWARD  \n",
       "3  Explorative gRNA-Targets       NaN         42  FORWARD  \n",
       "4  Explorative gRNA-Targets       NaN         42  FORWARD  "
      ]
     },
     "execution_count": 18,
     "metadata": {},
     "output_type": "execute_result"
    }
   ],
   "source": [
    "import pandas as pd\n",
    "\n",
    "targets_f = \"/Users/colm/repos/x-crisp/src/data/FORECasT/train.txt\"\n",
    "\n",
    "t = pd.read_csv(targets_f, sep=\"\\t\")\n",
    "print(t.shape)\n",
    "t.head()\n"
   ]
  },
  {
   "cell_type": "code",
   "execution_count": 19,
   "metadata": {},
   "outputs": [
    {
     "data": {
      "text/plain": [
       "(6634, 8)"
      ]
     },
     "execution_count": 19,
     "metadata": {},
     "output_type": "execute_result"
    }
   ],
   "source": [
    "guides = t[t[\"Subset\"] == \"Explorative gRNA-Targets\"]\n",
    "guides.shape"
   ]
  },
  {
   "cell_type": "code",
   "execution_count": 20,
   "metadata": {},
   "outputs": [
    {
     "data": {
      "text/plain": [
       "(6634, 8)"
      ]
     },
     "execution_count": 20,
     "metadata": {},
     "output_type": "execute_result"
    }
   ],
   "source": [
    "guides = guides[(guides[\"Strand\"] == \"FORWARD\") & (guides[\"PAM Index\"] != 56)]\n",
    "guides.shape"
   ]
  },
  {
   "cell_type": "code",
   "execution_count": 21,
   "metadata": {},
   "outputs": [],
   "source": [
    "import pandas as pd\n",
    "import pickle as pkl\n",
    "\n",
    "from src.models.XCRISP.insertion import load_data\n",
    "\n",
    "X, y, samples = load_data(dataset=\"train\", num_samples=500)"
   ]
  },
  {
   "cell_type": "code",
   "execution_count": 22,
   "metadata": {},
   "outputs": [],
   "source": [
    "Xf, yf, samplesf = load_data(dataset=\"train.bad1bpins\", num_samples=500)"
   ]
  },
  {
   "cell_type": "code",
   "execution_count": 23,
   "metadata": {},
   "outputs": [
    {
     "data": {
      "text/plain": [
       "['2+AA', '2+AC', '2+AT']"
      ]
     },
     "execution_count": 23,
     "metadata": {},
     "output_type": "execute_result"
    }
   ],
   "source": [
    "bp1ins = [\"1+A\", \"1+C\", \"1+G\", \"1+T\"]\n",
    "\n",
    "bp2ins = []\n",
    "for nt1 in \"ACTG\":\n",
    "    for nt2 in \"ACTG\":\n",
    "        bp2ins.append(f\"2+{nt1}{nt2}\")\n",
    "bp2ins[:3]"
   ]
  },
  {
   "cell_type": "code",
   "execution_count": 34,
   "metadata": {},
   "outputs": [
    {
     "name": "stdout",
     "output_type": "stream",
     "text": [
      "Oligo_10018\n"
     ]
    },
    {
     "data": {
      "text/plain": [
       "'GGGCTTCACTCGTCGTGATT'"
      ]
     },
     "execution_count": 34,
     "metadata": {},
     "output_type": "execute_result"
    }
   ],
   "source": [
    "sample_name = samples[1]\n",
    "print(sample_name)\n",
    "target_sequence = t[t[\"ID\"] == sample_name][\"Guide Sequence\"].values[0]\n",
    "target_sequence"
   ]
  },
  {
   "cell_type": "code",
   "execution_count": 35,
   "metadata": {},
   "outputs": [
    {
     "name": "stdout",
     "output_type": "stream",
     "text": [
      "Indel\n",
      "1+A    0.063893\n",
      "1+C    0.010401\n",
      "1+G    0.007429\n",
      "1+T    0.004458\n",
      "Name: Oligo_10018, dtype: float64\n",
      "\n",
      "\n",
      "Indel\n",
      "2+AA    0.000000\n",
      "2+AC    0.000000\n",
      "2+AT    0.000000\n",
      "2+AG    0.000000\n",
      "2+CA    0.000000\n",
      "2+CC    0.000000\n",
      "2+CT    0.000000\n",
      "2+CG    0.008915\n",
      "2+TA    0.000000\n",
      "2+TC    0.000000\n",
      "2+TT    0.002972\n",
      "2+TG    0.000000\n",
      "2+GA    0.000000\n",
      "2+GC    0.000000\n",
      "2+GT    0.000000\n",
      "2+GG    0.000000\n",
      "Name: Oligo_10018, dtype: float64\n"
     ]
    }
   ],
   "source": [
    "print(y.loc[sample_name, bp1ins])\n",
    "print(\"\\n\")\n",
    "print(y.loc[sample_name, bp2ins])"
   ]
  },
  {
   "cell_type": "code",
   "execution_count": 36,
   "metadata": {},
   "outputs": [
    {
     "name": "stdout",
     "output_type": "stream",
     "text": [
      "Indel\n",
      "1+A    0.000000\n",
      "1+C    0.011111\n",
      "1+G    0.007937\n",
      "1+T    0.004762\n",
      "Name: Oligo_10018, dtype: float64\n",
      "\n",
      "\n",
      "Indel\n",
      "2+AA    0.000000\n",
      "2+AC    0.000000\n",
      "2+AT    0.000000\n",
      "2+AG    0.000000\n",
      "2+CA    0.000000\n",
      "2+CC    0.000000\n",
      "2+CT    0.000000\n",
      "2+CG    0.009524\n",
      "2+TA    0.000000\n",
      "2+TC    0.000000\n",
      "2+TT    0.003175\n",
      "2+TG    0.000000\n",
      "2+GA    0.000000\n",
      "2+GC    0.000000\n",
      "2+GT    0.000000\n",
      "2+GG    0.000000\n",
      "Name: Oligo_10018, dtype: float64\n"
     ]
    }
   ],
   "source": [
    "print(yf.loc[sample_name, bp1ins])\n",
    "print(\"\\n\")\n",
    "print(yf.loc[sample_name, bp2ins])"
   ]
  },
  {
   "cell_type": "code",
   "execution_count": 37,
   "metadata": {},
   "outputs": [
    {
     "name": "stdout",
     "output_type": "stream",
     "text": [
      "False\n",
      "Indel\n",
      "1+A    0.034921\n",
      "1+C    0.024115\n",
      "1+G    0.010973\n",
      "1+T    0.060138\n",
      "dtype: float64\n"
     ]
    }
   ],
   "source": [
    "print((y[bp1ins] == 0).any(axis=1).all())\n",
    "print(y[bp1ins].mean())"
   ]
  },
  {
   "cell_type": "code",
   "execution_count": 38,
   "metadata": {},
   "outputs": [
    {
     "name": "stdout",
     "output_type": "stream",
     "text": [
      "True\n",
      "Indel\n",
      "2+AA    0.002525\n",
      "2+AC    0.000097\n",
      "2+AT    0.001058\n",
      "2+AG    0.000397\n",
      "2+CA    0.000474\n",
      "2+CC    0.000980\n",
      "2+CT    0.000292\n",
      "2+CG    0.000419\n",
      "2+TA    0.001430\n",
      "2+TC    0.000361\n",
      "2+TT    0.003365\n",
      "2+TG    0.000324\n",
      "2+GA    0.000554\n",
      "2+GC    0.000076\n",
      "2+GT    0.000406\n",
      "2+GG    0.000566\n",
      "dtype: float64\n"
     ]
    }
   ],
   "source": [
    "print((y[bp2ins] == 0).any(axis=1).all())\n",
    "print(y[bp2ins].mean())"
   ]
  },
  {
   "cell_type": "code",
   "execution_count": 39,
   "metadata": {},
   "outputs": [
    {
     "name": "stdout",
     "output_type": "stream",
     "text": [
      "True\n",
      "Indel\n",
      "1+A    0.028345\n",
      "1+C    0.021392\n",
      "1+G    0.009386\n",
      "1+T    0.047309\n",
      "dtype: float64\n"
     ]
    }
   ],
   "source": [
    "print((yf[bp1ins] == 0).any(axis=1).all())\n",
    "print(yf[bp1ins].mean())"
   ]
  },
  {
   "cell_type": "code",
   "execution_count": 40,
   "metadata": {},
   "outputs": [
    {
     "name": "stdout",
     "output_type": "stream",
     "text": [
      "True\n",
      "Indel\n",
      "2+AA    0.001840\n",
      "2+AC    0.000108\n",
      "2+AT    0.001055\n",
      "2+AG    0.000418\n",
      "2+CA    0.000449\n",
      "2+CC    0.000264\n",
      "2+CT    0.000308\n",
      "2+CG    0.000415\n",
      "2+TA    0.001438\n",
      "2+TC    0.000388\n",
      "2+TT    0.001527\n",
      "2+TG    0.000175\n",
      "2+GA    0.000585\n",
      "2+GC    0.000084\n",
      "2+GT    0.000409\n",
      "2+GG    0.000439\n",
      "dtype: float64\n"
     ]
    }
   ],
   "source": [
    "print((yf[bp2ins] == 0).any(axis=1).all())\n",
    "print(yf[bp2ins].mean())"
   ]
  },
  {
   "cell_type": "code",
   "execution_count": 41,
   "metadata": {},
   "outputs": [
    {
     "name": "stdout",
     "output_type": "stream",
     "text": [
      "I1_L-1R0\t-\t34\n",
      "I1_L-3C3R1\t-\t43\n"
     ]
    }
   ],
   "source": [
    "! cat /Users/colm/repos/output/local/model_training/data/FORECasT/profiles/Tijsterman_Analyser/test/Oligo_1007 | grep I1_"
   ]
  },
  {
   "cell_type": "code",
   "execution_count": 42,
   "metadata": {},
   "outputs": [
    {
     "data": {
      "text/plain": [
       "False"
      ]
     },
     "execution_count": 42,
     "metadata": {},
     "output_type": "execute_result"
    }
   ],
   "source": [
    "import os\n",
    "import pandas as pd\n",
    "f = os.environ['OUTPUT_DIR'] + \"/model_training/data_100x/inDelphi/1bpins_train.csv\"\n",
    "\n",
    "d = pd.read_csv(f)\n",
    "\n",
    "(d[[\"A frac\", \"C frac\", \"G frac\", \"T frac\"]] == 0).any(axis=1).all()"
   ]
  },
  {
   "cell_type": "code",
   "execution_count": 44,
   "metadata": {},
   "outputs": [
    {
     "data": {
      "text/html": [
       "<div>\n",
       "<style scoped>\n",
       "    .dataframe tbody tr th:only-of-type {\n",
       "        vertical-align: middle;\n",
       "    }\n",
       "\n",
       "    .dataframe tbody tr th {\n",
       "        vertical-align: top;\n",
       "    }\n",
       "\n",
       "    .dataframe thead th {\n",
       "        text-align: right;\n",
       "    }\n",
       "</style>\n",
       "<table border=\"1\" class=\"dataframe\">\n",
       "  <thead>\n",
       "    <tr style=\"text-align: right;\">\n",
       "      <th></th>\n",
       "      <th>Unnamed: 0</th>\n",
       "      <th>Frequency</th>\n",
       "      <th>A frac</th>\n",
       "      <th>C frac</th>\n",
       "      <th>G frac</th>\n",
       "      <th>T frac</th>\n",
       "      <th>Base</th>\n",
       "      <th>_Experiment</th>\n",
       "    </tr>\n",
       "  </thead>\n",
       "  <tbody>\n",
       "    <tr>\n",
       "      <th>295</th>\n",
       "      <td>295</td>\n",
       "      <td>0.168605</td>\n",
       "      <td>0.741379</td>\n",
       "      <td>0.12069</td>\n",
       "      <td>0.086207</td>\n",
       "      <td>0.051724</td>\n",
       "      <td>G</td>\n",
       "      <td>Oligo_10018</td>\n",
       "    </tr>\n",
       "  </tbody>\n",
       "</table>\n",
       "</div>"
      ],
      "text/plain": [
       "     Unnamed: 0  Frequency    A frac   C frac    G frac    T frac Base  \\\n",
       "295         295   0.168605  0.741379  0.12069  0.086207  0.051724    G   \n",
       "\n",
       "     _Experiment  \n",
       "295  Oligo_10018  "
      ]
     },
     "execution_count": 44,
     "metadata": {},
     "output_type": "execute_result"
    }
   ],
   "source": [
    "d[d[\"_Experiment\"] == sample_name]"
   ]
  }
 ],
 "metadata": {
  "kernelspec": {
   "display_name": "xcrisp",
   "language": "python",
   "name": "python3"
  },
  "language_info": {
   "codemirror_mode": {
    "name": "ipython",
    "version": 3
   },
   "file_extension": ".py",
   "mimetype": "text/x-python",
   "name": "python",
   "nbconvert_exporter": "python",
   "pygments_lexer": "ipython3",
   "version": "3.9.13"
  }
 },
 "nbformat": 4,
 "nbformat_minor": 2
}
