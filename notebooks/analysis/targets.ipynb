{
 "cells": [
  {
   "cell_type": "code",
   "execution_count": 14,
   "metadata": {},
   "outputs": [
    {
     "name": "stdout",
     "output_type": "stream",
     "text": [
      "(6634, 8)\n"
     ]
    },
    {
     "data": {
      "text/html": [
       "<div>\n",
       "<style scoped>\n",
       "    .dataframe tbody tr th:only-of-type {\n",
       "        vertical-align: middle;\n",
       "    }\n",
       "\n",
       "    .dataframe tbody tr th {\n",
       "        vertical-align: top;\n",
       "    }\n",
       "\n",
       "    .dataframe thead th {\n",
       "        text-align: right;\n",
       "    }\n",
       "</style>\n",
       "<table border=\"1\" class=\"dataframe\">\n",
       "  <thead>\n",
       "    <tr style=\"text-align: right;\">\n",
       "      <th></th>\n",
       "      <th>ID</th>\n",
       "      <th>Guide Sequence</th>\n",
       "      <th>TargetSequence</th>\n",
       "      <th>Scaffold</th>\n",
       "      <th>Subset</th>\n",
       "      <th>Comments</th>\n",
       "      <th>PAM Index</th>\n",
       "      <th>Strand</th>\n",
       "    </tr>\n",
       "  </thead>\n",
       "  <tbody>\n",
       "    <tr>\n",
       "      <th>0</th>\n",
       "      <td>Oligo_35070</td>\n",
       "      <td>GGGCTCTCCCTCGACCGCAA</td>\n",
       "      <td>CGTAATCCTCTACGATCGACACTGGCTCTCCCTCGACCGCAACGGG...</td>\n",
       "      <td>Improved</td>\n",
       "      <td>Explorative gRNA-Targets</td>\n",
       "      <td>NaN</td>\n",
       "      <td>42</td>\n",
       "      <td>FORWARD</td>\n",
       "    </tr>\n",
       "    <tr>\n",
       "      <th>1</th>\n",
       "      <td>Oligo_42717</td>\n",
       "      <td>GGTGTATGTCGTGGCCCTAT</td>\n",
       "      <td>ATCCCAATTTGTGTATGTCGTAGGTGTATGTCGTGGCCCTATTGGG...</td>\n",
       "      <td>Improved</td>\n",
       "      <td>Explorative gRNA-Targets</td>\n",
       "      <td>NaN</td>\n",
       "      <td>42</td>\n",
       "      <td>FORWARD</td>\n",
       "    </tr>\n",
       "    <tr>\n",
       "      <th>2</th>\n",
       "      <td>Oligo_22394</td>\n",
       "      <td>GACCGAAACCGTTCATAGTG</td>\n",
       "      <td>TCTTGTGGCTTAAGAAGTTTTCGACCGAAACCGTTCATAGTGCGGC...</td>\n",
       "      <td>Improved</td>\n",
       "      <td>Explorative gRNA-Targets</td>\n",
       "      <td>NaN</td>\n",
       "      <td>42</td>\n",
       "      <td>FORWARD</td>\n",
       "    </tr>\n",
       "    <tr>\n",
       "      <th>3</th>\n",
       "      <td>Oligo_16345</td>\n",
       "      <td>GGCTCCTTTGATACGCATGC</td>\n",
       "      <td>TCCGATTTATCAGCAATCGGGAGGCTCCTTTGATACGCATGCGGGG...</td>\n",
       "      <td>Improved</td>\n",
       "      <td>Explorative gRNA-Targets</td>\n",
       "      <td>NaN</td>\n",
       "      <td>42</td>\n",
       "      <td>FORWARD</td>\n",
       "    </tr>\n",
       "    <tr>\n",
       "      <th>4</th>\n",
       "      <td>Oligo_2536</td>\n",
       "      <td>GTCGGCGTGGTCCATTGTGT</td>\n",
       "      <td>AAACTTGTACTCGGACGTAATCCTCGGCGTGGTCCATTGTGTGGGT...</td>\n",
       "      <td>Improved</td>\n",
       "      <td>Explorative gRNA-Targets</td>\n",
       "      <td>NaN</td>\n",
       "      <td>42</td>\n",
       "      <td>FORWARD</td>\n",
       "    </tr>\n",
       "  </tbody>\n",
       "</table>\n",
       "</div>"
      ],
      "text/plain": [
       "            ID        Guide Sequence  \\\n",
       "0  Oligo_35070  GGGCTCTCCCTCGACCGCAA   \n",
       "1  Oligo_42717  GGTGTATGTCGTGGCCCTAT   \n",
       "2  Oligo_22394  GACCGAAACCGTTCATAGTG   \n",
       "3  Oligo_16345  GGCTCCTTTGATACGCATGC   \n",
       "4   Oligo_2536  GTCGGCGTGGTCCATTGTGT   \n",
       "\n",
       "                                      TargetSequence  Scaffold  \\\n",
       "0  CGTAATCCTCTACGATCGACACTGGCTCTCCCTCGACCGCAACGGG...  Improved   \n",
       "1  ATCCCAATTTGTGTATGTCGTAGGTGTATGTCGTGGCCCTATTGGG...  Improved   \n",
       "2  TCTTGTGGCTTAAGAAGTTTTCGACCGAAACCGTTCATAGTGCGGC...  Improved   \n",
       "3  TCCGATTTATCAGCAATCGGGAGGCTCCTTTGATACGCATGCGGGG...  Improved   \n",
       "4  AAACTTGTACTCGGACGTAATCCTCGGCGTGGTCCATTGTGTGGGT...  Improved   \n",
       "\n",
       "                     Subset  Comments  PAM Index   Strand  \n",
       "0  Explorative gRNA-Targets       NaN         42  FORWARD  \n",
       "1  Explorative gRNA-Targets       NaN         42  FORWARD  \n",
       "2  Explorative gRNA-Targets       NaN         42  FORWARD  \n",
       "3  Explorative gRNA-Targets       NaN         42  FORWARD  \n",
       "4  Explorative gRNA-Targets       NaN         42  FORWARD  "
      ]
     },
     "execution_count": 14,
     "metadata": {},
     "output_type": "execute_result"
    }
   ],
   "source": [
    "import pandas as pd\n",
    "\n",
    "targets_f = \"/Users/colm/repos/x-crisp/src/data/FORECasT/train.txt\"\n",
    "\n",
    "t = pd.read_csv(targets_f, sep=\"\\t\")\n",
    "print(t.shape)\n",
    "t.head()\n"
   ]
  },
  {
   "cell_type": "code",
   "execution_count": 9,
   "metadata": {},
   "outputs": [
    {
     "data": {
      "text/plain": [
       "(25553, 8)"
      ]
     },
     "execution_count": 9,
     "metadata": {},
     "output_type": "execute_result"
    }
   ],
   "source": [
    "guides = t[t[\"Subset\"] == \"Explorative gRNA-Targets\"]\n",
    "guides.shape"
   ]
  },
  {
   "cell_type": "code",
   "execution_count": 10,
   "metadata": {},
   "outputs": [
    {
     "data": {
      "text/plain": [
       "(11058, 8)"
      ]
     },
     "execution_count": 10,
     "metadata": {},
     "output_type": "execute_result"
    }
   ],
   "source": [
    "guides = guides[(guides[\"Strand\"] == \"FORWARD\") & (guides[\"PAM Index\"] != 56)]\n",
    "guides.shape"
   ]
  },
  {
   "cell_type": "code",
   "execution_count": 17,
   "metadata": {},
   "outputs": [
    {
     "ename": "FileNotFoundError",
     "evalue": "[Errno 2] No such file or directory: '/Users/colm/repos/output/local//model_training/data_100x/OurModel/test.pkl'",
     "output_type": "error",
     "traceback": [
      "\u001b[0;31m---------------------------------------------------------------------------\u001b[0m",
      "\u001b[0;31mFileNotFoundError\u001b[0m                         Traceback (most recent call last)",
      "Cell \u001b[0;32mIn [17], line 7\u001b[0m\n\u001b[1;32m      4\u001b[0m genotype \u001b[38;5;241m=\u001b[39m \u001b[38;5;124m\"\u001b[39m\u001b[38;5;124mtest\u001b[39m\u001b[38;5;124m\"\u001b[39m\n\u001b[1;32m      6\u001b[0m ourmodel_data_f \u001b[38;5;241m=\u001b[39m os\u001b[38;5;241m.\u001b[39menviron[\u001b[38;5;124m\"\u001b[39m\u001b[38;5;124mOUTPUT_DIR\u001b[39m\u001b[38;5;124m\"\u001b[39m] \u001b[38;5;241m+\u001b[39m \u001b[38;5;124m\"\u001b[39m\u001b[38;5;124m/model_training/data_\u001b[39m\u001b[38;5;132;01m{}\u001b[39;00m\u001b[38;5;124mx/OurModel/\u001b[39m\u001b[38;5;132;01m{}\u001b[39;00m\u001b[38;5;124m.pkl\u001b[39m\u001b[38;5;124m\"\u001b[39m\u001b[38;5;241m.\u001b[39mformat(min_reads, genotype) \n\u001b[0;32m----> 7\u001b[0m ourmodel_d \u001b[38;5;241m=\u001b[39m \u001b[38;5;28mlist\u001b[39m(\u001b[43mpd\u001b[49m\u001b[38;5;241;43m.\u001b[39;49m\u001b[43mread_pickle\u001b[49m\u001b[43m(\u001b[49m\u001b[43mourmodel_data_f\u001b[49m\u001b[43m)\u001b[49m[\u001b[38;5;124m\"\u001b[39m\u001b[38;5;124mcounts\u001b[39m\u001b[38;5;124m\"\u001b[39m]\u001b[38;5;241m.\u001b[39mindex\u001b[38;5;241m.\u001b[39mlevels[\u001b[38;5;241m0\u001b[39m])\n\u001b[1;32m      9\u001b[0m \u001b[38;5;28mlen\u001b[39m(ourmodel_d)\n",
      "File \u001b[0;32m~/anaconda3/envs/xcrisp/lib/python3.9/site-packages/pandas/io/pickle.py:190\u001b[0m, in \u001b[0;36mread_pickle\u001b[0;34m(filepath_or_buffer, compression, storage_options)\u001b[0m\n\u001b[1;32m    124\u001b[0m \u001b[38;5;124;03m\"\"\"\u001b[39;00m\n\u001b[1;32m    125\u001b[0m \u001b[38;5;124;03mLoad pickled pandas object (or any object) from file.\u001b[39;00m\n\u001b[1;32m    126\u001b[0m \n\u001b[0;32m   (...)\u001b[0m\n\u001b[1;32m    187\u001b[0m \u001b[38;5;124;03m4    4    9\u001b[39;00m\n\u001b[1;32m    188\u001b[0m \u001b[38;5;124;03m\"\"\"\u001b[39;00m\n\u001b[1;32m    189\u001b[0m excs_to_catch \u001b[38;5;241m=\u001b[39m (\u001b[38;5;167;01mAttributeError\u001b[39;00m, \u001b[38;5;167;01mImportError\u001b[39;00m, \u001b[38;5;167;01mModuleNotFoundError\u001b[39;00m, \u001b[38;5;167;01mTypeError\u001b[39;00m)\n\u001b[0;32m--> 190\u001b[0m \u001b[38;5;28;01mwith\u001b[39;00m \u001b[43mget_handle\u001b[49m\u001b[43m(\u001b[49m\n\u001b[1;32m    191\u001b[0m \u001b[43m    \u001b[49m\u001b[43mfilepath_or_buffer\u001b[49m\u001b[43m,\u001b[49m\n\u001b[1;32m    192\u001b[0m \u001b[43m    \u001b[49m\u001b[38;5;124;43m\"\u001b[39;49m\u001b[38;5;124;43mrb\u001b[39;49m\u001b[38;5;124;43m\"\u001b[39;49m\u001b[43m,\u001b[49m\n\u001b[1;32m    193\u001b[0m \u001b[43m    \u001b[49m\u001b[43mcompression\u001b[49m\u001b[38;5;241;43m=\u001b[39;49m\u001b[43mcompression\u001b[49m\u001b[43m,\u001b[49m\n\u001b[1;32m    194\u001b[0m \u001b[43m    \u001b[49m\u001b[43mis_text\u001b[49m\u001b[38;5;241;43m=\u001b[39;49m\u001b[38;5;28;43;01mFalse\u001b[39;49;00m\u001b[43m,\u001b[49m\n\u001b[1;32m    195\u001b[0m \u001b[43m    \u001b[49m\u001b[43mstorage_options\u001b[49m\u001b[38;5;241;43m=\u001b[39;49m\u001b[43mstorage_options\u001b[49m\u001b[43m,\u001b[49m\n\u001b[1;32m    196\u001b[0m \u001b[43m\u001b[49m\u001b[43m)\u001b[49m \u001b[38;5;28;01mas\u001b[39;00m handles:\n\u001b[1;32m    197\u001b[0m \n\u001b[1;32m    198\u001b[0m     \u001b[38;5;66;03m# 1) try standard library Pickle\u001b[39;00m\n\u001b[1;32m    199\u001b[0m     \u001b[38;5;66;03m# 2) try pickle_compat (older pandas version) to handle subclass changes\u001b[39;00m\n\u001b[1;32m    200\u001b[0m     \u001b[38;5;66;03m# 3) try pickle_compat with latin-1 encoding upon a UnicodeDecodeError\u001b[39;00m\n\u001b[1;32m    202\u001b[0m     \u001b[38;5;28;01mtry\u001b[39;00m:\n\u001b[1;32m    203\u001b[0m         \u001b[38;5;66;03m# TypeError for Cython complaints about object.__new__ vs Tick.__new__\u001b[39;00m\n\u001b[1;32m    204\u001b[0m         \u001b[38;5;28;01mtry\u001b[39;00m:\n",
      "File \u001b[0;32m~/anaconda3/envs/xcrisp/lib/python3.9/site-packages/pandas/io/common.py:865\u001b[0m, in \u001b[0;36mget_handle\u001b[0;34m(path_or_buf, mode, encoding, compression, memory_map, is_text, errors, storage_options)\u001b[0m\n\u001b[1;32m    856\u001b[0m         handle \u001b[38;5;241m=\u001b[39m \u001b[38;5;28mopen\u001b[39m(\n\u001b[1;32m    857\u001b[0m             handle,\n\u001b[1;32m    858\u001b[0m             ioargs\u001b[38;5;241m.\u001b[39mmode,\n\u001b[0;32m   (...)\u001b[0m\n\u001b[1;32m    861\u001b[0m             newline\u001b[38;5;241m=\u001b[39m\u001b[38;5;124m\"\u001b[39m\u001b[38;5;124m\"\u001b[39m,\n\u001b[1;32m    862\u001b[0m         )\n\u001b[1;32m    863\u001b[0m     \u001b[38;5;28;01melse\u001b[39;00m:\n\u001b[1;32m    864\u001b[0m         \u001b[38;5;66;03m# Binary mode\u001b[39;00m\n\u001b[0;32m--> 865\u001b[0m         handle \u001b[38;5;241m=\u001b[39m \u001b[38;5;28;43mopen\u001b[39;49m\u001b[43m(\u001b[49m\u001b[43mhandle\u001b[49m\u001b[43m,\u001b[49m\u001b[43m \u001b[49m\u001b[43mioargs\u001b[49m\u001b[38;5;241;43m.\u001b[39;49m\u001b[43mmode\u001b[49m\u001b[43m)\u001b[49m\n\u001b[1;32m    866\u001b[0m     handles\u001b[38;5;241m.\u001b[39mappend(handle)\n\u001b[1;32m    868\u001b[0m \u001b[38;5;66;03m# Convert BytesIO or file objects passed with an encoding\u001b[39;00m\n",
      "\u001b[0;31mFileNotFoundError\u001b[0m: [Errno 2] No such file or directory: '/Users/colm/repos/output/local//model_training/data_100x/OurModel/test.pkl'"
     ]
    }
   ],
   "source": [
    "import os\n",
    "\n",
    "min_reads = 100\n",
    "genotype = \"test\"\n",
    "\n",
    "ourmodel_data_f = os.environ[\"OUTPUT_DIR\"] + \"/model_training/data_{}x/OurModel/{}.pkl\".format(min_reads, genotype) \n",
    "ourmodel_d = list(pd.read_pickle(ourmodel_data_f)[\"counts\"].index.levels[0])\n",
    "\n",
    "len(ourmodel_d)"
   ]
  }
 ],
 "metadata": {
  "kernelspec": {
   "display_name": "xcrisp",
   "language": "python",
   "name": "python3"
  },
  "language_info": {
   "codemirror_mode": {
    "name": "ipython",
    "version": 3
   },
   "file_extension": ".py",
   "mimetype": "text/x-python",
   "name": "python",
   "nbconvert_exporter": "python",
   "pygments_lexer": "ipython3",
   "version": "3.9.13"
  }
 },
 "nbformat": 4,
 "nbformat_minor": 2
}
