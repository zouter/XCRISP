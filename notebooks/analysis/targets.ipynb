{
 "cells": [
  {
   "cell_type": "code",
   "execution_count": 14,
   "metadata": {},
   "outputs": [
    {
     "name": "stdout",
     "output_type": "stream",
     "text": [
      "(6634, 8)\n"
     ]
    },
    {
     "data": {
      "text/html": [
       "<div>\n",
       "<style scoped>\n",
       "    .dataframe tbody tr th:only-of-type {\n",
       "        vertical-align: middle;\n",
       "    }\n",
       "\n",
       "    .dataframe tbody tr th {\n",
       "        vertical-align: top;\n",
       "    }\n",
       "\n",
       "    .dataframe thead th {\n",
       "        text-align: right;\n",
       "    }\n",
       "</style>\n",
       "<table border=\"1\" class=\"dataframe\">\n",
       "  <thead>\n",
       "    <tr style=\"text-align: right;\">\n",
       "      <th></th>\n",
       "      <th>ID</th>\n",
       "      <th>Guide Sequence</th>\n",
       "      <th>TargetSequence</th>\n",
       "      <th>Scaffold</th>\n",
       "      <th>Subset</th>\n",
       "      <th>Comments</th>\n",
       "      <th>PAM Index</th>\n",
       "      <th>Strand</th>\n",
       "    </tr>\n",
       "  </thead>\n",
       "  <tbody>\n",
       "    <tr>\n",
       "      <th>0</th>\n",
       "      <td>Oligo_35070</td>\n",
       "      <td>GGGCTCTCCCTCGACCGCAA</td>\n",
       "      <td>CGTAATCCTCTACGATCGACACTGGCTCTCCCTCGACCGCAACGGG...</td>\n",
       "      <td>Improved</td>\n",
       "      <td>Explorative gRNA-Targets</td>\n",
       "      <td>NaN</td>\n",
       "      <td>42</td>\n",
       "      <td>FORWARD</td>\n",
       "    </tr>\n",
       "    <tr>\n",
       "      <th>1</th>\n",
       "      <td>Oligo_42717</td>\n",
       "      <td>GGTGTATGTCGTGGCCCTAT</td>\n",
       "      <td>ATCCCAATTTGTGTATGTCGTAGGTGTATGTCGTGGCCCTATTGGG...</td>\n",
       "      <td>Improved</td>\n",
       "      <td>Explorative gRNA-Targets</td>\n",
       "      <td>NaN</td>\n",
       "      <td>42</td>\n",
       "      <td>FORWARD</td>\n",
       "    </tr>\n",
       "    <tr>\n",
       "      <th>2</th>\n",
       "      <td>Oligo_22394</td>\n",
       "      <td>GACCGAAACCGTTCATAGTG</td>\n",
       "      <td>TCTTGTGGCTTAAGAAGTTTTCGACCGAAACCGTTCATAGTGCGGC...</td>\n",
       "      <td>Improved</td>\n",
       "      <td>Explorative gRNA-Targets</td>\n",
       "      <td>NaN</td>\n",
       "      <td>42</td>\n",
       "      <td>FORWARD</td>\n",
       "    </tr>\n",
       "    <tr>\n",
       "      <th>3</th>\n",
       "      <td>Oligo_16345</td>\n",
       "      <td>GGCTCCTTTGATACGCATGC</td>\n",
       "      <td>TCCGATTTATCAGCAATCGGGAGGCTCCTTTGATACGCATGCGGGG...</td>\n",
       "      <td>Improved</td>\n",
       "      <td>Explorative gRNA-Targets</td>\n",
       "      <td>NaN</td>\n",
       "      <td>42</td>\n",
       "      <td>FORWARD</td>\n",
       "    </tr>\n",
       "    <tr>\n",
       "      <th>4</th>\n",
       "      <td>Oligo_2536</td>\n",
       "      <td>GTCGGCGTGGTCCATTGTGT</td>\n",
       "      <td>AAACTTGTACTCGGACGTAATCCTCGGCGTGGTCCATTGTGTGGGT...</td>\n",
       "      <td>Improved</td>\n",
       "      <td>Explorative gRNA-Targets</td>\n",
       "      <td>NaN</td>\n",
       "      <td>42</td>\n",
       "      <td>FORWARD</td>\n",
       "    </tr>\n",
       "  </tbody>\n",
       "</table>\n",
       "</div>"
      ],
      "text/plain": [
       "            ID        Guide Sequence  \\\n",
       "0  Oligo_35070  GGGCTCTCCCTCGACCGCAA   \n",
       "1  Oligo_42717  GGTGTATGTCGTGGCCCTAT   \n",
       "2  Oligo_22394  GACCGAAACCGTTCATAGTG   \n",
       "3  Oligo_16345  GGCTCCTTTGATACGCATGC   \n",
       "4   Oligo_2536  GTCGGCGTGGTCCATTGTGT   \n",
       "\n",
       "                                      TargetSequence  Scaffold  \\\n",
       "0  CGTAATCCTCTACGATCGACACTGGCTCTCCCTCGACCGCAACGGG...  Improved   \n",
       "1  ATCCCAATTTGTGTATGTCGTAGGTGTATGTCGTGGCCCTATTGGG...  Improved   \n",
       "2  TCTTGTGGCTTAAGAAGTTTTCGACCGAAACCGTTCATAGTGCGGC...  Improved   \n",
       "3  TCCGATTTATCAGCAATCGGGAGGCTCCTTTGATACGCATGCGGGG...  Improved   \n",
       "4  AAACTTGTACTCGGACGTAATCCTCGGCGTGGTCCATTGTGTGGGT...  Improved   \n",
       "\n",
       "                     Subset  Comments  PAM Index   Strand  \n",
       "0  Explorative gRNA-Targets       NaN         42  FORWARD  \n",
       "1  Explorative gRNA-Targets       NaN         42  FORWARD  \n",
       "2  Explorative gRNA-Targets       NaN         42  FORWARD  \n",
       "3  Explorative gRNA-Targets       NaN         42  FORWARD  \n",
       "4  Explorative gRNA-Targets       NaN         42  FORWARD  "
      ]
     },
     "execution_count": 14,
     "metadata": {},
     "output_type": "execute_result"
    }
   ],
   "source": [
    "import pandas as pd\n",
    "\n",
    "targets_f = \"/Users/colm/repos/x-crisp/src/data/FORECasT/train.txt\"\n",
    "\n",
    "t = pd.read_csv(targets_f, sep=\"\\t\")\n",
    "print(t.shape)\n",
    "t.head()\n"
   ]
  },
  {
   "cell_type": "code",
   "execution_count": 9,
   "metadata": {},
   "outputs": [
    {
     "data": {
      "text/plain": [
       "(25553, 8)"
      ]
     },
     "execution_count": 9,
     "metadata": {},
     "output_type": "execute_result"
    }
   ],
   "source": [
    "guides = t[t[\"Subset\"] == \"Explorative gRNA-Targets\"]\n",
    "guides.shape"
   ]
  },
  {
   "cell_type": "code",
   "execution_count": 10,
   "metadata": {},
   "outputs": [
    {
     "data": {
      "text/plain": [
       "(11058, 8)"
      ]
     },
     "execution_count": 10,
     "metadata": {},
     "output_type": "execute_result"
    }
   ],
   "source": [
    "guides = guides[(guides[\"Strand\"] == \"FORWARD\") & (guides[\"PAM Index\"] != 56)]\n",
    "guides.shape"
   ]
  },
  {
   "cell_type": "code",
   "execution_count": null,
   "metadata": {},
   "outputs": [],
   "source": []
  }
 ],
 "metadata": {
  "kernelspec": {
   "display_name": "xcrisp",
   "language": "python",
   "name": "python3"
  },
  "language_info": {
   "codemirror_mode": {
    "name": "ipython",
    "version": 3
   },
   "file_extension": ".py",
   "mimetype": "text/x-python",
   "name": "python",
   "nbconvert_exporter": "python",
   "pygments_lexer": "ipython3",
   "version": "3.9.13"
  }
 },
 "nbformat": 4,
 "nbformat_minor": 2
}
